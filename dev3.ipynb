{
 "cells": [
  {
   "cell_type": "code",
   "execution_count": 4,
   "metadata": {},
   "outputs": [
    {
     "name": "stdout",
     "output_type": "stream",
     "text": [
      "Requirement already satisfied: jedi in /home/david/anaconda3/envs/p_localrag/lib/python3.10/site-packages (0.19.2)\n",
      "Requirement already satisfied: parso<0.9.0,>=0.8.4 in /home/david/anaconda3/envs/p_localrag/lib/python3.10/site-packages (from jedi) (0.8.4)\n"
     ]
    }
   ],
   "source": [
    "!pip install jedi"
   ]
  },
  {
   "cell_type": "code",
   "execution_count": 10,
   "metadata": {},
   "outputs": [
    {
     "name": "stdout",
     "output_type": "stream",
     "text": [
      "Name: classB, Type: module\n",
      "Name: ClassA, Type: class\n",
      "Name: __init__, Type: function\n",
      "Name: self, Type: param\n",
      "Name: b, Type: statement\n",
      "Name: method1, Type: function\n",
      "Name: self, Type: param\n",
      "\n",
      "Function __init__ is used at:\n",
      "  - Line 5, Column 8\n",
      "\n",
      "Function method1 is used at:\n",
      "  - Line 9, Column 8\n"
     ]
    }
   ],
   "source": [
    "import jedi\n",
    "\n",
    "source_code = \"\"\"\n",
    "import classB\n",
    "\n",
    "class ClassA:\n",
    "    def __init__(self):\n",
    "        self.b = classB.ClassB()\n",
    "        self.b.method1()\n",
    "\n",
    "    def method1(self):\n",
    "        self.b.method2()\n",
    "\"\"\"\n",
    "\n",
    "script = jedi.Script(source_code)\n",
    "\n",
    "# Get all definitions (e.g., methods, classes, imports)\n",
    "definitions = script.get_names(all_scopes=True)\n",
    "for d in definitions:\n",
    "    print(f\"Name: {d.name}, Type: {d.type}\")\n",
    "\n",
    "# Find references to methods in the file\n",
    "for d in definitions:\n",
    "    if d.type == \"function\":\n",
    "        usages = d.get_signatures()\n",
    "        print(f\"\\nFunction {d.name} is used at:\")\n",
    "        for u in usages:\n",
    "            print(f\"  - Line {u.line}, Column {u.column}\")\n"
   ]
  },
  {
   "cell_type": "code",
   "execution_count": 9,
   "metadata": {},
   "outputs": [
    {
     "data": {
      "text/plain": [
       "[<BaseSignature full_name='__main__.ClassA.__init__', description='def __init__'>]"
      ]
     },
     "execution_count": 9,
     "metadata": {},
     "output_type": "execute_result"
    }
   ],
   "source": [
    "d.get_signatures()"
   ]
  },
  {
   "cell_type": "code",
   "execution_count": 11,
   "metadata": {},
   "outputs": [
    {
     "name": "stdout",
     "output_type": "stream",
     "text": [
      "Collecting redbaron\n",
      "  Downloading redbaron-0.9.2-py2.py3-none-any.whl.metadata (15 kB)\n",
      "Collecting baron>=0.7 (from redbaron)\n",
      "  Downloading baron-0.10.1-py2.py3-none-any.whl.metadata (16 kB)\n",
      "Collecting rply (from baron>=0.7->redbaron)\n",
      "  Downloading rply-0.7.8-py2.py3-none-any.whl.metadata (4.2 kB)\n",
      "Collecting appdirs (from rply->baron>=0.7->redbaron)\n",
      "  Using cached appdirs-1.4.4-py2.py3-none-any.whl.metadata (9.0 kB)\n",
      "Downloading redbaron-0.9.2-py2.py3-none-any.whl (34 kB)\n",
      "Downloading baron-0.10.1-py2.py3-none-any.whl (45 kB)\n",
      "Downloading rply-0.7.8-py2.py3-none-any.whl (16 kB)\n",
      "Using cached appdirs-1.4.4-py2.py3-none-any.whl (9.6 kB)\n",
      "Installing collected packages: appdirs, rply, baron, redbaron\n",
      "Successfully installed appdirs-1.4.4 baron-0.10.1 redbaron-0.9.2 rply-0.7.8\n"
     ]
    }
   ],
   "source": [
    "!pip install redbaron\n"
   ]
  },
  {
   "cell_type": "code",
   "execution_count": 12,
   "metadata": {},
   "outputs": [
    {
     "name": "stdout",
     "output_type": "stream",
     "text": [
      "Class: ClassA\n",
      "  Method: __init__\n",
      "  Method: method1\n",
      "Function Call in __init__: \u001b[38;5;15m(\u001b[39m\u001b[38;5;15m)\u001b[39m\n",
      "\n",
      "Function Call in __init__: \u001b[38;5;15m(\u001b[39m\u001b[38;5;15m)\u001b[39m\n",
      "\n"
     ]
    }
   ],
   "source": [
    "from redbaron import RedBaron\n",
    "\n",
    "source_code = \"\"\"\n",
    "class ClassA:\n",
    "    def __init__(self):\n",
    "        self.a = 1\n",
    "        self.b = ClassB()\n",
    "        self.b.method1()\n",
    "\n",
    "    def method1(self):\n",
    "        self.b.method2()\n",
    "\"\"\"\n",
    "\n",
    "red = RedBaron(source_code)\n",
    "\n",
    "# Get all class definitions\n",
    "for class_ in red.find_all(\"class\"):\n",
    "    print(f\"Class: {class_.name}\")\n",
    "    # Get all methods in the class\n",
    "    for method in class_.find_all(\"def\"):\n",
    "        print(f\"  Method: {method.name}\")\n",
    "\n",
    "# Find all calls in __init__\n",
    "init_method = red.find(\"def\", name=\"__init__\")\n",
    "for call in init_method.find_all(\"call\"):\n",
    "    print(f\"Function Call in __init__: {call}\")\n"
   ]
  },
  {
   "cell_type": "code",
   "execution_count": null,
   "metadata": {},
   "outputs": [],
   "source": [
    "!pip install pyflakes\n"
   ]
  }
 ],
 "metadata": {
  "kernelspec": {
   "display_name": "kr_localrag",
   "language": "python",
   "name": "kr_localrag"
  },
  "language_info": {
   "codemirror_mode": {
    "name": "ipython",
    "version": 3
   },
   "file_extension": ".py",
   "mimetype": "text/x-python",
   "name": "python",
   "nbconvert_exporter": "python",
   "pygments_lexer": "ipython3",
   "version": "3.10.14"
  }
 },
 "nbformat": 4,
 "nbformat_minor": 2
}
