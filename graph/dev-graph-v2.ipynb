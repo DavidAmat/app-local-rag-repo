{
 "cells": [
  {
   "cell_type": "code",
   "execution_count": 1,
   "metadata": {},
   "outputs": [],
   "source": [
    "import os\n",
    "os.chdir(\"/home/david/Documents/projects/app-local-rag-repo/\")"
   ]
  },
  {
   "cell_type": "code",
   "execution_count": 2,
   "metadata": {},
   "outputs": [],
   "source": [
    "import ast\n",
    "import os\n",
    "from typing import Dict, List, Optional, Set\n",
    "from pathlib import Path"
   ]
  },
  {
   "cell_type": "markdown",
   "metadata": {},
   "source": [
    "# Node Definitions"
   ]
  },
  {
   "cell_type": "code",
   "execution_count": 3,
   "metadata": {},
   "outputs": [],
   "source": [
    "from typing import List, Optional, Set\n",
    "\n",
    "class Node:\n",
    "    def __init__(self, name: str, path: str, parent: Optional['Node'] = None):\n",
    "        self.name = name.strip()\n",
    "        self.path = path.strip()  # Full relative path (e.g., \"folder1/folder2/script.py\")\n",
    "        self.parent = parent      # Parent node in the hierarchy\n",
    "        self.children: List[Node] = []\n",
    "\n",
    "    def add_child(self, node: 'Node'):\n",
    "        if node not in self.children:\n",
    "            self.children.append(node)\n",
    "            node.parent = self  # Set parent when adding child\n",
    "\n",
    "    def __repr__(self):\n",
    "        return f\"{self.__class__.__name__}({self.name}, {self.path})\"\n",
    "\n",
    "\n",
    "class FolderNode(Node):\n",
    "    def __init__(self, name: str, path: str, parent: Optional['Node'] = None):\n",
    "        super().__init__(name, path, parent)\n",
    "\n",
    "    def __setattr__(self, key, value):\n",
    "        if isinstance(value, Node):\n",
    "            self.__dict__[key] = value\n",
    "        else:\n",
    "            super().__setattr__(key, value)\n",
    "\n",
    "    def add_child(self, node: 'Node'):\n",
    "        super().add_child(node)\n",
    "        # Dynamically add an attribute for easy access\n",
    "        if isinstance(node, FolderNode) or isinstance(node, ScriptNode):\n",
    "            setattr(self, node.name, node)\n",
    "\n",
    "\n",
    "class ScriptNode(Node):\n",
    "    def __init__(self, name: str, path: str, parent: Optional['Node'] = None):\n",
    "        super().__init__(name, path, parent)\n",
    "        # New fields for tracking dependencies/aliases\n",
    "        self.script_dependencies: List['ScriptNode'] = []\n",
    "        self.class_dependencies: List['ClassNode'] = []\n",
    "        self.function_dependencies: List['FunctionNode'] = []\n",
    "        # Map alias -> fully qualified node path (e.g. \"CA\" -> \"folder/script1.py::classA\")\n",
    "        self.aliases: Dict[str, str] = {}\n",
    "\n",
    "class FunctionNode(Node):\n",
    "    def __init__(self, name: str, path: str, parent: Optional['Node'] = None):\n",
    "        super().__init__(name, path, parent)\n",
    "\n",
    "class ClassNode(Node):\n",
    "    def __init__(self, name: str, path: str, parent: Optional['Node'] = None):\n",
    "        super().__init__(name, path, parent)\n",
    "        self.aliases: Set[str] = set()  # Aliases from imports (e.g., \"ClassA\" for \"classAmpere\")\n",
    "\n",
    "class MethodNode(Node):\n",
    "    def __init__(self, name: str, path: str, parent: Optional['Node'] = None, is_static: bool = False):\n",
    "        super().__init__(name, path, parent)\n",
    "        self.is_static = is_static\n",
    "        self.dependencies: List[Node] = []  # Method call dependencies\n",
    "\n",
    "    def add_dep(self, node: 'Node'):\n",
    "        if node not in self.dependencies:\n",
    "            self.dependencies.append(node)"
   ]
  },
  {
   "cell_type": "markdown",
   "metadata": {},
   "source": [
    "# Folder"
   ]
  },
  {
   "cell_type": "code",
   "execution_count": 4,
   "metadata": {},
   "outputs": [],
   "source": [
    "class FolderScriptBuilder:\n",
    "    \"\"\"Builds folder and script nodes from the filesystem, with global_path as root.\"\"\"\n",
    "    def __init__(self, global_path: str):\n",
    "        self.global_path = global_path\n",
    "\n",
    "    def build(self) -> Node:\n",
    "        root = FolderNode(\"root\", \".\", None)  # Root node represents global_path\n",
    "        # Set the root name to the last part of the global path\n",
    "        global_path = Path(self.global_path)\n",
    "        root.name = global_path.parts[-1]\n",
    "\n",
    "        nodes: Dict[str, Node] = {\"root\": root}  # Path \"\" maps to root\n",
    "\n",
    "        for root_dir, _, filenames in os.walk(self.global_path):\n",
    "            rel_root = os.path.relpath(root_dir, self.global_path)\n",
    "            parent = root\n",
    "\n",
    "            if rel_root != \".\":\n",
    "                parts = rel_root.split(\"/\")\n",
    "                for i, part in enumerate(parts):\n",
    "                    folder_path = \"/\".join(parts[:i + 1])\n",
    "                    if folder_path not in nodes:\n",
    "                        folder_node = FolderNode(part, folder_path)\n",
    "                        nodes[folder_path] = folder_node\n",
    "                        parent.add_child(folder_node)\n",
    "                    parent = nodes[folder_path]\n",
    "\n",
    "            for fname in filenames:\n",
    "                if fname.endswith(\".py\"):\n",
    "                    rel_path = os.path.join(rel_root, fname) if rel_root != \".\" else fname\n",
    "                    script_node = ScriptNode(fname, rel_path)\n",
    "                    nodes[rel_path] = script_node\n",
    "                    parent.add_child(script_node)\n",
    "\n",
    "        return root, nodes"
   ]
  },
  {
   "cell_type": "code",
   "execution_count": 5,
   "metadata": {},
   "outputs": [],
   "source": [
    "# global_path = \"/home/david/Documents/glovo/machine-learning-platform/widget_framework\"\n",
    "global_path = \"/home/david/Documents/projects/app-local-rag-repo/dummy-folder\""
   ]
  },
  {
   "cell_type": "code",
   "execution_count": 6,
   "metadata": {},
   "outputs": [],
   "source": [
    "fsb = FolderScriptBuilder(global_path)\n",
    "root, nodes = fsb.build()"
   ]
  },
  {
   "cell_type": "code",
   "execution_count": 7,
   "metadata": {},
   "outputs": [
    {
     "data": {
      "text/plain": [
       "{'root': FolderNode(dummy-folder, .),\n",
       " 'script2.py': ScriptNode(script2.py, script2.py),\n",
       " 'script1.py': ScriptNode(script1.py, script1.py),\n",
       " 'folder2': FolderNode(folder2, folder2),\n",
       " 'folder1': FolderNode(folder1, folder1),\n",
       " 'folder1/folder1_1': FolderNode(folder1_1, folder1/folder1_1),\n",
       " 'folder1/folder1_1/script1_1A.py': ScriptNode(script1_1A.py, folder1/folder1_1/script1_1A.py),\n",
       " 'folder1/folder1_1/script1_1B.py': ScriptNode(script1_1B.py, folder1/folder1_1/script1_1B.py),\n",
       " 'folder1/folder1_2': FolderNode(folder1_2, folder1/folder1_2)}"
      ]
     },
     "execution_count": 7,
     "metadata": {},
     "output_type": "execute_result"
    }
   ],
   "source": [
    "nodes"
   ]
  },
  {
   "cell_type": "code",
   "execution_count": 8,
   "metadata": {},
   "outputs": [
    {
     "data": {
      "text/plain": [
       "[ScriptNode(script1_1A.py, folder1/folder1_1/script1_1A.py),\n",
       " ScriptNode(script1_1B.py, folder1/folder1_1/script1_1B.py)]"
      ]
     },
     "execution_count": 8,
     "metadata": {},
     "output_type": "execute_result"
    }
   ],
   "source": [
    "root.folder1.folder1_1.children"
   ]
  },
  {
   "cell_type": "markdown",
   "metadata": {},
   "source": [
    "# Class Mapper"
   ]
  },
  {
   "cell_type": "code",
   "execution_count": 39,
   "metadata": {},
   "outputs": [],
   "source": [
    "class ScriptAnalyzer:\n",
    "    def __init__(self, nodes: Dict[str, Node], global_path: str, query_folder: Optional[str] = None):\n",
    "        self.nodes = nodes\n",
    "        self.global_path = Path(global_path)\n",
    "        self.query_folder = self.global_path / query_folder if query_folder else self.global_path\n",
    "        self.ast_cache = {}\n",
    "        self._build_ast()\n",
    "\n",
    "    def _build_ast(self):\n",
    "        for path, node in list(self.nodes.items()):\n",
    "            if isinstance(node, ScriptNode):\n",
    "                full_path = self.global_path / node.path\n",
    "                if full_path.exists() and full_path.is_relative_to(self.query_folder):\n",
    "                    with open(full_path, \"r\") as file:\n",
    "                        self.ast_cache[path] = ast.parse(file.read())\n",
    "\n",
    "    def analyze(self):\n",
    "        script_nodes = list(self.nodes.items())\n",
    "        for path, node in script_nodes:\n",
    "            if isinstance(node, ScriptNode) and path in self.ast_cache:\n",
    "                tree = self.ast_cache[path]\n",
    "                self._process_script(node, tree)\n",
    "\n",
    "    def _process_script(self, script_node: ScriptNode, tree: ast.Module):\n",
    "        for ast_node in tree.body:\n",
    "            if isinstance(ast_node, ast.ClassDef):\n",
    "                self._process_class(script_node, ast_node)\n",
    "            elif isinstance(ast_node, ast.FunctionDef):\n",
    "                self._process_function(script_node, ast_node)\n",
    "\n",
    "    def _process_class(self, script_node: ScriptNode, ast_node: ast.ClassDef):\n",
    "        class_path = f\"{script_node.path}::{ast_node.name}\"\n",
    "        class_node = ClassNode(ast_node.name, class_path, script_node)\n",
    "        self.nodes[class_path] = class_node\n",
    "        script_node.add_child(class_node)\n",
    "\n",
    "        for method in ast_node.body:\n",
    "            if isinstance(method, ast.FunctionDef):\n",
    "                method_path = f\"{class_path}::{method.name}\"\n",
    "                method_node = MethodNode(method.name, method_path, class_node)\n",
    "                self.nodes[method_path] = method_node\n",
    "                class_node.add_child(method_node)\n",
    "\n",
    "    def _process_function(self, script_node: ScriptNode, ast_node: ast.FunctionDef):\n",
    "        function_path = f\"{script_node.path}::{ast_node.name}\"\n",
    "        function_node = FunctionNode(ast_node.name, function_path, script_node)\n",
    "        self.nodes[function_path] = function_node\n",
    "        script_node.add_child(function_node)"
   ]
  },
  {
   "cell_type": "code",
   "execution_count": 42,
   "metadata": {},
   "outputs": [],
   "source": [
    "global_path = \"/home/david/Documents/projects/app-local-rag-repo/dummy-folder\"\n",
    "fsb = FolderScriptBuilder(global_path)\n",
    "root, nodes = fsb.build()\n",
    "script_analyzer = ScriptAnalyzer(\n",
    "    nodes=nodes, \n",
    "    global_path=global_path\n",
    ")\n",
    "script_analyzer.analyze()"
   ]
  },
  {
   "cell_type": "code",
   "execution_count": 43,
   "metadata": {},
   "outputs": [
    {
     "data": {
      "text/plain": [
       "FolderNode(dummy-folder, .)"
      ]
     },
     "execution_count": 43,
     "metadata": {},
     "output_type": "execute_result"
    }
   ],
   "source": [
    "root"
   ]
  },
  {
   "cell_type": "code",
   "execution_count": 44,
   "metadata": {},
   "outputs": [
    {
     "data": {
      "text/plain": [
       "[FunctionNode(indep_fun_11B, folder1/folder1_1/script1_1B.py::indep_fun_11B),\n",
       " ClassNode(Class11B, folder1/folder1_1/script1_1B.py::Class11B)]"
      ]
     },
     "execution_count": 44,
     "metadata": {},
     "output_type": "execute_result"
    }
   ],
   "source": [
    "root.folder1.folder1_1.children[1].children"
   ]
  },
  {
   "cell_type": "code",
   "execution_count": 45,
   "metadata": {},
   "outputs": [],
   "source": [
    "class11aa = root.folder1.folder1_1.children[0].children[0]\n",
    "classa2 =   root.folder1.folder1_1.children[0].children[1]"
   ]
  },
  {
   "cell_type": "code",
   "execution_count": 46,
   "metadata": {},
   "outputs": [
    {
     "data": {
      "text/plain": [
       "'folder1/folder1_1/script1_1A.py::Class11AA'"
      ]
     },
     "execution_count": 46,
     "metadata": {},
     "output_type": "execute_result"
    }
   ],
   "source": [
    "class11aa.path"
   ]
  },
  {
   "cell_type": "code",
   "execution_count": 47,
   "metadata": {},
   "outputs": [
    {
     "data": {
      "text/plain": [
       "[MethodNode(__init__, folder1/folder1_1/script1_1A.py::Class11AA::__init__),\n",
       " MethodNode(method1, folder1/folder1_1/script1_1A.py::Class11AA::method1),\n",
       " MethodNode(method2, folder1/folder1_1/script1_1A.py::Class11AA::method2)]"
      ]
     },
     "execution_count": 47,
     "metadata": {},
     "output_type": "execute_result"
    }
   ],
   "source": [
    "class11aa.children"
   ]
  },
  {
   "cell_type": "code",
   "execution_count": 48,
   "metadata": {},
   "outputs": [
    {
     "data": {
      "text/plain": [
       "'folder1/folder1_1/script1_1A.py::ClassA2'"
      ]
     },
     "execution_count": 48,
     "metadata": {},
     "output_type": "execute_result"
    }
   ],
   "source": [
    "classa2.path"
   ]
  },
  {
   "cell_type": "markdown",
   "metadata": {},
   "source": [
    "# Import Analyzer"
   ]
  },
  {
   "cell_type": "code",
   "execution_count": 100,
   "metadata": {},
   "outputs": [],
   "source": [
    "class ImportAnalyzer:\n",
    "    def __init__(self, global_path: str, nodes: Dict[str, Node], ast_cache: Dict[str, ast.Module], query_folder: Optional[str] = None):\n",
    "        self.global_path = Path(global_path)\n",
    "        self.nodes = nodes\n",
    "        self.ast_cache = ast_cache\n",
    "        self.query_folder = self.global_path / query_folder if query_folder else self.global_path\n",
    "\n",
    "    def analyze(self, script_path: Optional[str] = None):\n",
    "        if script_path:\n",
    "            script_node = self.nodes.get(script_path)\n",
    "            if isinstance(script_node, ScriptNode) and script_path in self.ast_cache:\n",
    "                tree = self.ast_cache[script_path]\n",
    "                self._process_imports(script_node, tree)\n",
    "        else:\n",
    "            for path, node in self.nodes.items():\n",
    "                full_path = self.global_path / path\n",
    "                if isinstance(node, ScriptNode) and path in self.ast_cache and full_path.is_relative_to(self.query_folder):\n",
    "                    tree = self.ast_cache[path]\n",
    "                    self._process_imports(node, tree)\n",
    "\n",
    "\n",
    "    def _process_imports(self, script_node: ScriptNode, tree: ast.Module):\n",
    "        for stmt in tree.body:\n",
    "            if isinstance(stmt, ast.Import):\n",
    "                self._handle_import(script_node, stmt)\n",
    "            elif isinstance(stmt, ast.ImportFrom):\n",
    "                self._handle_import_from(script_node, stmt)\n",
    "\n",
    "    def _handle_import(self, script_node: ScriptNode, stmt: ast.Import):\n",
    "        \"\"\"\n",
    "        Example:\n",
    "            import script2\n",
    "            import script2 as s2\n",
    "            import script1, script2 as s2\n",
    "        \"\"\"\n",
    "        for alias in stmt.names:\n",
    "            module_name = alias.name\n",
    "            as_name = alias.asname or module_name\n",
    "\n",
    "            script_path = self._find_script_path(module_name, base_path=script_node.path)\n",
    "            if script_path and script_path in self.nodes and isinstance(self.nodes[script_path], ScriptNode):\n",
    "                target_node: ScriptNode = self.nodes[script_path]\n",
    "                \n",
    "                # Ensure no duplicate dependencies using a set for paths\n",
    "                if target_node not in set(script_node.script_dependencies):\n",
    "                    script_node.script_dependencies.append(target_node)\n",
    "                    script_node.aliases[as_name] = script_path\n",
    "\n",
    "    def _handle_import_from(self, script_node: ScriptNode, stmt: ast.ImportFrom):\n",
    "        \"\"\"\n",
    "        Example:\n",
    "            from script1 import classA, functionB as fB\n",
    "            from . import something\n",
    "            from .script2 import SomeClass\n",
    "        \"\"\"\n",
    "        module_name = stmt.module or \"\"\n",
    "        level = stmt.level\n",
    "        from_script_path = self._find_script_path(module_name, level, script_node.path)\n",
    "\n",
    "        if not from_script_path or from_script_path not in self.nodes:\n",
    "            return\n",
    "\n",
    "        from_script_node = self.nodes[from_script_path]\n",
    "        if not isinstance(from_script_node, ScriptNode):\n",
    "            return\n",
    "\n",
    "        for alias in stmt.names:\n",
    "            imported_name = alias.name\n",
    "            as_name = alias.asname or imported_name\n",
    "\n",
    "            fq_path = f\"{from_script_path}::{imported_name}\"\n",
    "            if fq_path in self.nodes:\n",
    "                # If it's a ClassNode\n",
    "                if isinstance(self.nodes[fq_path], ClassNode):\n",
    "                    class_node = self.nodes[fq_path]\n",
    "                    script_node.class_dependencies.append(class_node)\n",
    "                    script_node.aliases[as_name] = fq_path\n",
    "                # If it's a FunctionNode\n",
    "                elif isinstance(self.nodes[fq_path], FunctionNode):\n",
    "                    func_node = self.nodes[fq_path]\n",
    "                    script_node.function_dependencies.append(func_node)\n",
    "                    script_node.aliases[as_name] = fq_path\n",
    "            else:\n",
    "                # If no symbol match is found, treat as entire script import\n",
    "                if from_script_node not in set(script_node.script_dependencies):\n",
    "                    script_node.script_dependencies.append(from_script_node)\n",
    "                    # script_node.aliases[as_name] = from_script_path\n",
    "\n",
    "    def _find_script_path(self, module_name: str, level: int = 0, base_path: str = \"\") -> Optional[str]:\n",
    "        if not module_name and level == 0:\n",
    "            return None\n",
    "\n",
    "        # Convert module name using dot notation to a relative script path\n",
    "        relative_path = Path(module_name.replace(\".\", \"/\")).with_suffix(\".py\")\n",
    "        \n",
    "        # If relative path exists in nodes, return it\n",
    "        return str(relative_path) if str(relative_path) in self.nodes else None"
   ]
  },
  {
   "cell_type": "code",
   "execution_count": 101,
   "metadata": {},
   "outputs": [],
   "source": [
    "# global_path = \"/home/david/Documents/projects/app-local-rag-repo/dummy-folder\"\n",
    "global_path = \"/home/david/Documents/glovo/machine-learning-platform/\"\n",
    "query_folder = \"widget_framework\"\n",
    "\n",
    "# 0) Build the folder and script nodes\n",
    "fsb = FolderScriptBuilder(global_path)\n",
    "root, nodes = fsb.build()\n",
    "\n",
    "# 1) Build Script/Class/Function/Method nodes\n",
    "script_analyzer = ScriptAnalyzer(\n",
    "    nodes=nodes, \n",
    "    global_path=global_path,\n",
    "    query_folder=query_folder\n",
    ")\n",
    "script_analyzer.analyze()\n",
    "\n",
    "# 2) Build the import relationships\n",
    "import_analyzer = ImportAnalyzer(\n",
    "    global_path=global_path, \n",
    "    nodes=nodes, \n",
    "    ast_cache=script_analyzer.ast_cache,\n",
    "    query_folder=query_folder\n",
    ")\n",
    "import_analyzer.analyze(\"widget_framework/api.py\")"
   ]
  },
  {
   "cell_type": "code",
   "execution_count": 102,
   "metadata": {},
   "outputs": [
    {
     "data": {
      "text/plain": [
       "{'name': 'api.py',\n",
       " 'path': 'widget_framework/api.py',\n",
       " 'parent': FolderNode(widget_framework, widget_framework),\n",
       " 'children': [FunctionNode(inference, widget_framework/api.py::inference),\n",
       "  FunctionNode(production_app, widget_framework/api.py::production_app),\n",
       "  FunctionNode(local_app, widget_framework/api.py::local_app)],\n",
       " 'script_dependencies': [ScriptNode(constants.py, widget_framework/constants.py)],\n",
       " 'class_dependencies': [ClassNode(ContractInput, widget_framework/src/utils.py::ContractInput),\n",
       "  ClassNode(Utils, widget_framework/src/utils.py::Utils),\n",
       "  ClassNode(WidgetBuilder, widget_framework/src/widget_builder.py::WidgetBuilder)],\n",
       " 'function_dependencies': [],\n",
       " 'aliases': {'ContractInput': 'widget_framework/src/utils.py::ContractInput',\n",
       "  'Utils': 'widget_framework/src/utils.py::Utils',\n",
       "  'WidgetBuilder': 'widget_framework/src/widget_builder.py::WidgetBuilder'}}"
      ]
     },
     "execution_count": 102,
     "metadata": {},
     "output_type": "execute_result"
    }
   ],
   "source": [
    "vars(nodes[\"widget_framework/api.py\"])"
   ]
  },
  {
   "cell_type": "code",
   "execution_count": 96,
   "metadata": {},
   "outputs": [
    {
     "data": {
      "text/plain": [
       "'widget_framework/constants.py'"
      ]
     },
     "execution_count": 96,
     "metadata": {},
     "output_type": "execute_result"
    }
   ],
   "source": [
    "vars(nodes[\"widget_framework/api.py\"])[\"script_dependencies\"][1].path"
   ]
  },
  {
   "cell_type": "code",
   "execution_count": 65,
   "metadata": {},
   "outputs": [],
   "source": [
    "script_api = root.widget_framework.children[4]\n",
    "fun_infe, fun_app, fun_local = script_api.children"
   ]
  },
  {
   "cell_type": "code",
   "execution_count": 66,
   "metadata": {},
   "outputs": [
    {
     "data": {
      "text/plain": [
       "{'name': 'api.py',\n",
       " 'path': 'widget_framework/api.py',\n",
       " 'parent': FolderNode(widget_framework, widget_framework),\n",
       " 'children': [FunctionNode(inference, widget_framework/api.py::inference),\n",
       "  FunctionNode(production_app, widget_framework/api.py::production_app),\n",
       "  FunctionNode(local_app, widget_framework/api.py::local_app)],\n",
       " 'script_dependencies': [],\n",
       " 'class_dependencies': [],\n",
       " 'function_dependencies': [],\n",
       " 'aliases': {}}"
      ]
     },
     "execution_count": 66,
     "metadata": {},
     "output_type": "execute_result"
    }
   ],
   "source": [
    "vars(script_api)"
   ]
  },
  {
   "cell_type": "code",
   "execution_count": 25,
   "metadata": {},
   "outputs": [],
   "source": []
  },
  {
   "cell_type": "code",
   "execution_count": 29,
   "metadata": {},
   "outputs": [
    {
     "data": {
      "text/plain": [
       "ScriptNode(api.py, api.py)"
      ]
     },
     "execution_count": 29,
     "metadata": {},
     "output_type": "execute_result"
    }
   ],
   "source": [
    "node_api = getattr(root,\"api.py\")\n",
    "node_api"
   ]
  },
  {
   "cell_type": "code",
   "execution_count": 30,
   "metadata": {},
   "outputs": [
    {
     "data": {
      "text/plain": [
       "{'name': 'api.py',\n",
       " 'path': 'api.py',\n",
       " 'parent': FolderNode(widget_framework, .),\n",
       " 'children': [FunctionNode(inference, api.py::inference),\n",
       "  FunctionNode(production_app, api.py::production_app),\n",
       "  FunctionNode(local_app, api.py::local_app)],\n",
       " 'script_dependencies': [],\n",
       " 'class_dependencies': [],\n",
       " 'function_dependencies': [],\n",
       " 'aliases': {}}"
      ]
     },
     "execution_count": 30,
     "metadata": {},
     "output_type": "execute_result"
    }
   ],
   "source": [
    "vars(node_api)"
   ]
  },
  {
   "cell_type": "code",
   "execution_count": 21,
   "metadata": {},
   "outputs": [],
   "source": [
    "script11a = root.folder1.folder1_1.children[0]\n",
    "script11b = root.folder1.folder1_1.children[1]"
   ]
  },
  {
   "cell_type": "code",
   "execution_count": 22,
   "metadata": {},
   "outputs": [
    {
     "data": {
      "text/plain": [
       "{'name': 'script1_1A.py',\n",
       " 'path': 'folder1/folder1_1/script1_1A.py',\n",
       " 'parent': FolderNode(folder1_1, folder1/folder1_1),\n",
       " 'children': [ClassNode(Class11AA, folder1/folder1_1/script1_1A.py::Class11AA),\n",
       "  ClassNode(ClassA2, folder1/folder1_1/script1_1A.py::ClassA2)],\n",
       " 'script_dependencies': [ScriptNode(script2.py, script2.py)],\n",
       " 'class_dependencies': [ClassNode(classA, script1.py::classA)],\n",
       " 'function_dependencies': [FunctionNode(indep_fun_11B, folder1/folder1_1/script1_1B.py::indep_fun_11B)],\n",
       " 'aliases': {'CA': 'script1.py::classA',\n",
       "  'script2': 'script2.py',\n",
       "  'indep_fun_11B': 'folder1/folder1_1/script1_1B.py::indep_fun_11B'}}"
      ]
     },
     "execution_count": 22,
     "metadata": {},
     "output_type": "execute_result"
    }
   ],
   "source": [
    "vars(script11a)"
   ]
  },
  {
   "cell_type": "code",
   "execution_count": 23,
   "metadata": {},
   "outputs": [
    {
     "data": {
      "text/plain": [
       "{'name': 'script1_1B.py',\n",
       " 'path': 'folder1/folder1_1/script1_1B.py',\n",
       " 'parent': FolderNode(folder1_1, folder1/folder1_1),\n",
       " 'children': [FunctionNode(indep_fun_11B, folder1/folder1_1/script1_1B.py::indep_fun_11B),\n",
       "  ClassNode(Class11B, folder1/folder1_1/script1_1B.py::Class11B)],\n",
       " 'script_dependencies': [ScriptNode(script1.py, script1.py)],\n",
       " 'class_dependencies': [ClassNode(Class11AA, folder1/folder1_1/script1_1A.py::Class11AA)],\n",
       " 'function_dependencies': [],\n",
       " 'aliases': {'Class11AA': 'folder1/folder1_1/script1_1A.py::Class11AA',\n",
       "  'classA2': 'script1.py'}}"
      ]
     },
     "execution_count": 23,
     "metadata": {},
     "output_type": "execute_result"
    }
   ],
   "source": [
    "vars(script11b)"
   ]
  },
  {
   "cell_type": "code",
   "execution_count": null,
   "metadata": {},
   "outputs": [],
   "source": []
  }
 ],
 "metadata": {
  "kernelspec": {
   "display_name": "kr_localrag",
   "language": "python",
   "name": "kr_localrag"
  },
  "language_info": {
   "codemirror_mode": {
    "name": "ipython",
    "version": 3
   },
   "file_extension": ".py",
   "mimetype": "text/x-python",
   "name": "python",
   "nbconvert_exporter": "python",
   "pygments_lexer": "ipython3",
   "version": "3.10.14"
  }
 },
 "nbformat": 4,
 "nbformat_minor": 2
}
